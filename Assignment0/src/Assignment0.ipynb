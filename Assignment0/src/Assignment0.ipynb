{
 "cells": [
  {
   "cell_type": "code",
   "execution_count": 20,
   "metadata": {},
   "outputs": [],
   "source": [
    "import cv2\n",
    "import numpy as np"
   ]
  },
  {
   "cell_type": "code",
   "execution_count": 61,
   "metadata": {},
   "outputs": [],
   "source": [
    "a=cv2.imread('example.png',0)"
   ]
  },
  {
   "cell_type": "code",
   "execution_count": 62,
   "metadata": {},
   "outputs": [],
   "source": [
    "cv2.imshow('j',a)\n",
    "cv2.waitKey()\n",
    "cv2.destroyAllWindows()"
   ]
  },
  {
   "cell_type": "code",
   "execution_count": 4,
   "metadata": {},
   "outputs": [
    {
     "data": {
      "text/plain": [
       "numpy.ndarray"
      ]
     },
     "execution_count": 4,
     "metadata": {},
     "output_type": "execute_result"
    }
   ],
   "source": [
    "type(a)"
   ]
  },
  {
   "cell_type": "code",
   "execution_count": 7,
   "metadata": {},
   "outputs": [
    {
     "data": {
      "text/plain": [
       "(106, 106)"
      ]
     },
     "execution_count": 7,
     "metadata": {},
     "output_type": "execute_result"
    }
   ],
   "source": [
    "a.shape"
   ]
  },
  {
   "cell_type": "code",
   "execution_count": 27,
   "metadata": {},
   "outputs": [
    {
     "name": "stdout",
     "output_type": "stream",
     "text": [
      "138 70 68\n",
      "33\n",
      "75 141 66\n",
      "72\n"
     ]
    }
   ],
   "source": [
    "for i in range(1,106):\n",
    "    if(abs(int(a[i][53])-int(a[i-1][53]))>50):\n",
    "        print(a[i][53],a[i-1][53],abs(int(a[i][53])-int(a[i-1][53])))\n",
    "        print(i)\n",
    "    "
   ]
  },
  {
   "cell_type": "code",
   "execution_count": 28,
   "metadata": {},
   "outputs": [
    {
     "name": "stdout",
     "output_type": "stream",
     "text": [
      "146 74 72\n",
      "34\n",
      "102 166 64\n",
      "72\n"
     ]
    }
   ],
   "source": [
    "for i in range(1,106):\n",
    "    if(abs(int(a[53][i])-int(a[53][i-1]))>50):\n",
    "        print(a[53][i],a[53][i-1],abs(int(a[53][i])-int(a[53][i-1])))\n",
    "        print(i)\n",
    "    "
   ]
  },
  {
   "cell_type": "code",
   "execution_count": 41,
   "metadata": {},
   "outputs": [],
   "source": [
    "for i in range(33,72):\n",
    "    for j in range(34,72):\n",
    "        if(a[i,j]<110):\n",
    "            print(i,j,a[i,j])\n",
    "    "
   ]
  },
  {
   "cell_type": "code",
   "execution_count": 47,
   "metadata": {},
   "outputs": [],
   "source": [
    "from scipy import stats"
   ]
  },
  {
   "cell_type": "code",
   "execution_count": 48,
   "metadata": {},
   "outputs": [],
   "source": [
    "m=stats.mode(a)"
   ]
  },
  {
   "cell_type": "code",
   "execution_count": 49,
   "metadata": {},
   "outputs": [
    {
     "name": "stdout",
     "output_type": "stream",
     "text": [
      "ModeResult(mode=array([[77, 76, 76, 76, 76, 76, 76, 76, 76, 76, 76, 76, 76, 76, 76, 76,\n",
      "        76, 76, 76, 76, 76, 76, 76, 76, 76, 76, 75, 75, 75, 75, 75, 75,\n",
      "        75, 75, 75, 75, 75, 75, 75, 75, 75, 75, 75, 75, 75, 75, 75, 75,\n",
      "        75, 75, 75, 75, 75, 75, 75, 75, 75, 75, 75, 75, 75, 75, 75, 75,\n",
      "        75, 75, 75, 75, 75, 75, 75, 75, 75, 75, 75, 75, 75, 75, 75, 76,\n",
      "        76, 76, 76, 76, 76, 76, 76, 76, 76, 76, 76, 76, 76, 76, 76, 76,\n",
      "        76, 76, 76, 76, 76, 76, 76, 76, 76, 73]], dtype=uint8), count=array([[105,  56,  56,  56,  56,  56,  56,  56,  56,  56,  56,  56,  56,\n",
      "         56,  56,  56,  56,  56,  56,  56,  56,  56,  56,  56,  56,  56,\n",
      "        105, 105, 105, 105, 105, 105, 105,  66,  65,  65,  65,  65,  65,\n",
      "         65,  65,  65,  65,  65,  65,  65,  65,  65,  65,  65,  65,  65,\n",
      "         65,  65,  65,  65,  65,  65,  65,  65,  65,  65,  65,  65,  65,\n",
      "         65,  65,  65,  65,  65,  65,  65,  65,  66, 105, 105, 105, 105,\n",
      "        105,  56,  56,  56,  56,  56,  56,  56,  56,  56,  56,  56,  56,\n",
      "         56,  56,  56,  56,  56,  56,  56,  56,  56,  56,  56,  56,  56,\n",
      "         56, 105]]))\n"
     ]
    }
   ],
   "source": [
    "print(m)"
   ]
  },
  {
   "cell_type": "code",
   "execution_count": 45,
   "metadata": {},
   "outputs": [
    {
     "name": "stdout",
     "output_type": "stream",
     "text": [
      "75.60386029411765\n"
     ]
    }
   ],
   "source": [
    "s=0\n",
    "b=0\n",
    "for i in range(106):\n",
    "    for j in range(106):\n",
    "        if not (34<=i<72 and 34<=j<72):\n",
    "            b+=1\n",
    "            s+=int(a[i,j])\n",
    "                \n",
    "print(s/b)    \n"
   ]
  },
  {
   "cell_type": "code",
   "execution_count": 46,
   "metadata": {},
   "outputs": [
    {
     "name": "stdout",
     "output_type": "stream",
     "text": [
      "172.17036011080333\n"
     ]
    }
   ],
   "source": [
    "s=0\n",
    "b=0\n",
    "for i in range(34,72):\n",
    "    for j in range(34,72):\n",
    "            b+=1\n",
    "            s+=int(a[i,j])\n",
    "print(s/b)            "
   ]
  },
  {
   "cell_type": "code",
   "execution_count": null,
   "metadata": {},
   "outputs": [],
   "source": [
    "t=10\n",
    "for i in range(100):\n",
    "    if i%10==0:\n",
    "        for i in range(33,72):\n",
    "            for j in range(34,72):\n",
    "                a[i,j]=a[i,j]+t\n",
    "        cv2.imshow('j',a)\n",
    "        cv2.waitKey()\n",
    "        print(\" \")\n",
    "        t=t+10\n",
    "        \n",
    "        "
   ]
  },
  {
   "cell_type": "code",
   "execution_count": 88,
   "metadata": {},
   "outputs": [
    {
     "name": "stdout",
     "output_type": "stream",
     "text": [
      "10 19\n",
      "10 18\n",
      "10 17\n",
      "10 16\n",
      "10 15\n",
      "10 14\n",
      "10 13\n",
      "10 12\n",
      "10 11\n",
      "10 10\n",
      "20 25\n",
      "20 24\n"
     ]
    },
    {
     "ename": "KeyboardInterrupt",
     "evalue": "",
     "output_type": "error",
     "traceback": [
      "\u001b[1;31m---------------------------------------------------------------------------\u001b[0m",
      "\u001b[1;31mKeyboardInterrupt\u001b[0m                         Traceback (most recent call last)",
      "\u001b[1;32m<ipython-input-88-84952d41d774>\u001b[0m in \u001b[0;36m<module>\u001b[1;34m\u001b[0m\n\u001b[0;32m     28\u001b[0m \u001b[1;33m\u001b[0m\u001b[0m\n\u001b[0;32m     29\u001b[0m \u001b[1;33m\u001b[0m\u001b[0m\n\u001b[1;32m---> 30\u001b[1;33m             \u001b[0mcv2\u001b[0m\u001b[1;33m.\u001b[0m\u001b[0mwaitKey\u001b[0m\u001b[1;33m(\u001b[0m\u001b[1;36m0\u001b[0m\u001b[1;33m)\u001b[0m\u001b[1;33m\u001b[0m\u001b[1;33m\u001b[0m\u001b[0m\n\u001b[0m\u001b[0;32m     31\u001b[0m             \u001b[0mcv2\u001b[0m\u001b[1;33m.\u001b[0m\u001b[0mdestroyAllWindows\u001b[0m\u001b[1;33m(\u001b[0m\u001b[1;33m)\u001b[0m\u001b[1;33m\u001b[0m\u001b[1;33m\u001b[0m\u001b[0m\n\u001b[0;32m     32\u001b[0m     \u001b[1;32melse\u001b[0m\u001b[1;33m:\u001b[0m\u001b[1;33m\u001b[0m\u001b[1;33m\u001b[0m\u001b[0m\n",
      "\u001b[1;31mKeyboardInterrupt\u001b[0m: "
     ]
    }
   ],
   "source": [
    "import math\n",
    "a=np.zeros((106,106))\n",
    "\n",
    "for t in range(10,255,10):\n",
    "    a=np.zeros((106,106))\n",
    "    a = a.astype('float64')\n",
    "    for m in range(106):\n",
    "        for n in range(106):\n",
    "            if not(33<=m<72 and 34<=n<72):\n",
    "                a[m,n]=t \n",
    "        \n",
    "    \n",
    "    if(t>10):   \n",
    "        for t1 in reversed(range(t,int(1.3*t))):\n",
    "            for m in range(33,72):\n",
    "\n",
    "                for n in range(34,72):\n",
    "                    a[m,n]=t1             \n",
    "\n",
    "            print(t,t1)\n",
    "\n",
    "\n",
    "            cv2.imwrite('a.jpg', a)\n",
    "            b=cv2.imread('a.jpg',0)\n",
    "            cv2.imshow('j',b)\n",
    "\n",
    "\n",
    "\n",
    "\n",
    "            cv2.waitKey(0)\n",
    "            cv2.destroyAllWindows()\n",
    "    else:\n",
    "        for t1 in reversed(range(t,int(10+t))):\n",
    "            for m in range(33,72):\n",
    "\n",
    "                for n in range(34,72):\n",
    "                    a[m,n]=t1             \n",
    "\n",
    "            print(t,t1)\n",
    "\n",
    "\n",
    "            cv2.imwrite('a.jpg', a)\n",
    "            b=cv2.imread('a.jpg',0)\n",
    "            cv2.imshow('j',b)\n",
    "\n",
    "\n",
    "\n",
    "\n",
    "            cv2.waitKey(0)\n",
    "            cv2.destroyAllWindows()           \n",
    "            "
   ]
  },
  {
   "cell_type": "markdown",
   "metadata": {},
   "source": [
    "\n",
    "\n",
    "#### "
   ]
  }
 ],
 "metadata": {
  "kernelspec": {
   "display_name": "Python 3",
   "language": "python",
   "name": "python3"
  },
  "language_info": {
   "codemirror_mode": {
    "name": "ipython",
    "version": 3
   },
   "file_extension": ".py",
   "mimetype": "text/x-python",
   "name": "python",
   "nbconvert_exporter": "python",
   "pygments_lexer": "ipython3",
   "version": "3.7.4"
  }
 },
 "nbformat": 4,
 "nbformat_minor": 4
}
